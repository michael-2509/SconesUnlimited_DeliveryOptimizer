{
 "cells": [
  {
   "cell_type": "markdown",
   "metadata": {},
   "source": [
    "# Deploy and monitor a machine learning workflow for Image Classification"
   ]
  },
  {
   "cell_type": "markdown",
   "metadata": {},
   "source": [
    "## Setting up this notebook\n",
    "\n",
    "Notes about the instance size and kernel setup: this notebook has been tested on\n",
    "\n",
    "1. The `Python 3 (Data Science)` kernel\n",
    "2. The `ml.t3.medium` Sagemaker notebook instance\n",
    "\n",
    "## Data Staging\n",
    "\n",
    "We'll use a sample dataset called CIFAR to simulate the challenges Scones Unlimited are facing in Image Classification. In order to start working with CIFAR we'll need to:\n",
    "\n",
    "1. Extract the data from a hosting service\n",
    "2. Transform it into a usable shape and format\n",
    "3. Load it into a production system\n",
    "\n",
    "In other words, we're going to do some simple ETL!\n",
    "\n",
    "### 1. Extract the data from the hosting service\n",
    "\n",
    "In the cell below, define a function `extract_cifar_data` that extracts python version of the CIFAR-100 dataset. The CIFAR dataaset is open source and generously hosted by the University of Toronto at: https://www.cs.toronto.edu/~kriz/cifar-100-python.tar.gz "
   ]
  },
  {
   "cell_type": "code",
   "execution_count": 1,
   "metadata": {},
   "outputs": [],
   "source": [
    "import requests\n",
    "\n",
    "def extract_cifar_data(url, filename=\"cifar.tar.gz\"):\n",
    "    \"\"\"A function for extracting the CIFAR-100 dataset and storing it as a gzipped file\n",
    "    \n",
    "    Arguments:\n",
    "    url      -- the URL where the dataset is hosted\n",
    "    filename -- the full path where the dataset will be written\n",
    "    \n",
    "    \"\"\"\n",
    "    \n",
    "    # Todo: request the data from the data url\n",
    "    # Hint: use `requests.get` method\n",
    "    r = requests.get(url)\n",
    "    with open(filename, \"wb\") as file_context:\n",
    "        file_context.write(r.content)\n",
    "    return"
   ]
  },
  {
   "cell_type": "markdown",
   "metadata": {},
   "source": [
    "Let's test it out! Run the following cell and check whether a new file `cifar.tar.gz` is created in the file explorer."
   ]
  },
  {
   "cell_type": "code",
   "execution_count": 2,
   "metadata": {},
   "outputs": [],
   "source": [
    "extract_cifar_data(\"https://www.cs.toronto.edu/~kriz/cifar-100-python.tar.gz\")     "
   ]
  },
  {
   "cell_type": "markdown",
   "metadata": {},
   "source": [
    "### 2. Transform the data into a usable shape and format\n",
    "\n",
    "Clearly, distributing the data as a gzipped archive makes sense for the hosting service! It saves on bandwidth, storage, and it's a widely-used archive format. In fact, it's so widely used that the Python community ships a utility for working with them, `tarfile`, as part of its Standard Library. Execute the following cell to decompress your extracted dataset:"
   ]
  },
  {
   "cell_type": "code",
   "execution_count": 3,
   "metadata": {},
   "outputs": [],
   "source": [
    "import tarfile\n",
    "\n",
    "with tarfile.open(\"cifar.tar.gz\", \"r:gz\") as tar:\n",
    "    tar.extractall()"
   ]
  },
  {
   "cell_type": "markdown",
   "metadata": {},
   "source": [
    "A new folder `cifar-100-python` should be created, containing `meta`, `test`, and `train` files. These files are `pickles` and the [CIFAR homepage](https://www.cs.toronto.edu/~kriz/cifar.html) provides a simple script that can be used to load them. We've adapted the script below for you to run:"
   ]
  },
  {
   "cell_type": "code",
   "execution_count": 2,
   "metadata": {},
   "outputs": [],
   "source": [
    "import pickle\n",
    "\n",
    "with open(\"./cifar-100-python/meta\", \"rb\") as f:\n",
    "    dataset_meta = pickle.load(f, encoding='bytes')\n",
    "\n",
    "with open(\"./cifar-100-python/test\", \"rb\") as f:\n",
    "    dataset_test = pickle.load(f, encoding='bytes')\n",
    "\n",
    "with open(\"./cifar-100-python/train\", \"rb\") as f:\n",
    "    dataset_train = pickle.load(f, encoding='bytes')"
   ]
  },
  {
   "cell_type": "code",
   "execution_count": 5,
   "metadata": {},
   "outputs": [
    {
     "data": {
      "text/plain": [
       "dict_keys([b'filenames', b'batch_label', b'fine_labels', b'coarse_labels', b'data'])"
      ]
     },
     "execution_count": 5,
     "metadata": {},
     "output_type": "execute_result"
    }
   ],
   "source": [
    "# Feel free to explore the datasets\n",
    "\n",
    "dataset_train.keys()"
   ]
  },
  {
   "cell_type": "markdown",
   "metadata": {},
   "source": [
    "As documented on the homepage, `b'data'` contains rows of 3073 unsigned integers, representing three channels (red, green, and blue) for one 32x32 pixel image per row."
   ]
  },
  {
   "cell_type": "code",
   "execution_count": 6,
   "metadata": {},
   "outputs": [
    {
     "data": {
      "text/plain": [
       "3072"
      ]
     },
     "execution_count": 6,
     "metadata": {},
     "output_type": "execute_result"
    }
   ],
   "source": [
    "32*32*3"
   ]
  },
  {
   "cell_type": "markdown",
   "metadata": {},
   "source": [
    "For a simple gut-check, let's transform one of our images. Each 1024 items in a row is a channel (red, green, then blue). Each 32 items in the channel are a row in the 32x32 image. Using python, we can stack these channels into a 32x32x3 array, and save it as a PNG file:"
   ]
  },
  {
   "cell_type": "code",
   "execution_count": 7,
   "metadata": {},
   "outputs": [],
   "source": [
    "import numpy as np\n",
    "\n",
    "# Each 1024 in a row is a channel (red, green, then blue)\n",
    "row = dataset_train[b'data'][0]\n",
    "red, green, blue = row[0:1024], row[1024:2048], row[2048:]\n",
    "\n",
    "# Each 32 items in the channel are a row in the 32x32 image\n",
    "red = red.reshape(32,32)\n",
    "green = green.reshape(32,32)\n",
    "blue = blue.reshape(32,32)\n",
    "\n",
    "# Combine the channels into a 32x32x3 image!\n",
    "combined = np.dstack((red,green,blue))"
   ]
  },
  {
   "cell_type": "markdown",
   "metadata": {},
   "source": [
    "For a more concise version, consider the following:"
   ]
  },
  {
   "cell_type": "code",
   "execution_count": 8,
   "metadata": {},
   "outputs": [],
   "source": [
    "# All in one:\n",
    "test_image = np.dstack((\n",
    "    row[0:1024].reshape(32,32),\n",
    "    row[1024:2048].reshape(32,32),\n",
    "    row[2048:].reshape(32,32)\n",
    "))"
   ]
  },
  {
   "cell_type": "code",
   "execution_count": 21,
   "metadata": {},
   "outputs": [
    {
     "ename": "NameError",
     "evalue": "name 'test_image' is not defined",
     "output_type": "error",
     "traceback": [
      "\u001b[0;31m---------------------------------------------------------------------------\u001b[0m",
      "\u001b[0;31mNameError\u001b[0m                                 Traceback (most recent call last)",
      "Cell \u001b[0;32mIn[21], line 2\u001b[0m\n\u001b[1;32m      1\u001b[0m \u001b[38;5;28;01mimport\u001b[39;00m \u001b[38;5;21;01mmatplotlib\u001b[39;00m\u001b[38;5;21;01m.\u001b[39;00m\u001b[38;5;21;01mpyplot\u001b[39;00m \u001b[38;5;28;01mas\u001b[39;00m \u001b[38;5;21;01mplt\u001b[39;00m\n\u001b[0;32m----> 2\u001b[0m plt\u001b[38;5;241m.\u001b[39mimshow(\u001b[43mtest_image\u001b[49m);\n",
      "\u001b[0;31mNameError\u001b[0m: name 'test_image' is not defined"
     ]
    }
   ],
   "source": [
    "import matplotlib.pyplot as plt\n",
    "plt.imshow(test_image);"
   ]
  },
  {
   "cell_type": "markdown",
   "metadata": {},
   "source": [
    "Looks like a cow! Let's check the label. `dataset_meta` contains label names in order, and `dataset_train` has a list of labels for each row."
   ]
  },
  {
   "cell_type": "code",
   "execution_count": 10,
   "metadata": {},
   "outputs": [
    {
     "data": {
      "text/plain": [
       "19"
      ]
     },
     "execution_count": 10,
     "metadata": {},
     "output_type": "execute_result"
    }
   ],
   "source": [
    "dataset_train[b'fine_labels'][0]"
   ]
  },
  {
   "cell_type": "markdown",
   "metadata": {},
   "source": [
    "Our image has a label of `19`, so let's see what the 19th item is in the list of label names."
   ]
  },
  {
   "cell_type": "code",
   "execution_count": 11,
   "metadata": {},
   "outputs": [
    {
     "name": "stdout",
     "output_type": "stream",
     "text": [
      "b'cattle'\n"
     ]
    }
   ],
   "source": [
    "print(dataset_meta[b'fine_label_names'][19])"
   ]
  },
  {
   "cell_type": "markdown",
   "metadata": {},
   "source": [
    "Ok! 'cattle' sounds about right. By the way, using the previous two lines we can do:"
   ]
  },
  {
   "cell_type": "code",
   "execution_count": 12,
   "metadata": {},
   "outputs": [
    {
     "name": "stdout",
     "output_type": "stream",
     "text": [
      "b'cattle'\n"
     ]
    }
   ],
   "source": [
    "n = 0\n",
    "print(dataset_meta[b'fine_label_names'][dataset_train[b'fine_labels'][n]])"
   ]
  },
  {
   "cell_type": "markdown",
   "metadata": {},
   "source": [
    "Now we know how to check labels, is there a way that we can also check file names? `dataset_train` also contains a `b'filenames'` key. Let's see what we have here:"
   ]
  },
  {
   "cell_type": "code",
   "execution_count": 15,
   "metadata": {},
   "outputs": [
    {
     "name": "stdout",
     "output_type": "stream",
     "text": [
      "b'bos_taurus_s_000507.png'\n"
     ]
    }
   ],
   "source": [
    "print(dataset_train[b'filenames'][0])"
   ]
  },
  {
   "cell_type": "markdown",
   "metadata": {},
   "source": [
    "\"Taurus\" is the name of a subspecies of cattle, so this looks like a pretty reasonable filename. To save an image we can also do:"
   ]
  },
  {
   "cell_type": "code",
   "execution_count": 16,
   "metadata": {},
   "outputs": [],
   "source": [
    "plt.imsave(\"file.png\", test_image)"
   ]
  },
  {
   "cell_type": "markdown",
   "metadata": {},
   "source": [
    "Your new PNG file should now appear in the file explorer -- go ahead and pop it open to see!\n",
    "\n",
    "Now that you know how to reshape the images, save them as files, and capture their filenames and labels, let's just capture all the bicycles and motorcycles and save them. Scones Unlimited can use a model that tells these apart to route delivery drivers automatically.\n",
    "\n",
    "In the following cell, identify the label numbers for Bicycles and Motorcycles:"
   ]
  },
  {
   "cell_type": "code",
   "execution_count": 19,
   "metadata": {},
   "outputs": [
    {
     "name": "stdout",
     "output_type": "stream",
     "text": [
      "Label number for Bicycle: b'bicycle'\n",
      "Label number for Motorcycle: b'motorcycle'\n"
     ]
    }
   ],
   "source": [
    "import pandas as pd\n",
    "\n",
    "# Todo: Filter the dataset_train and dataset_meta objects to find the label numbers for Bicycle and Motorcycles\n",
    "\n",
    "# Find label numbers for Bicycle and Motorcycle\n",
    "bicycle_label = dataset_meta[b'fine_label_names'][8]\n",
    "motorcycle_label = dataset_meta[b'fine_label_names'][48]\n",
    "\n",
    "print(f\"Label number for Bicycle: {bicycle_label}\")\n",
    "print(f\"Label number for Motorcycle: {motorcycle_label}\")\n",
    "\n",
    "\n"
   ]
  },
  {
   "cell_type": "markdown",
   "metadata": {},
   "source": [
    "Good job! We only need objects with label 8 and 48 -- this drastically simplifies our handling of the data! Below we construct a dataframe for you, and you can safely drop the rows that don't contain observations about bicycles and motorcycles. Fill in the missing lines below to drop all other rows:"
   ]
  },
  {
   "cell_type": "code",
   "execution_count": 41,
   "metadata": {},
   "outputs": [
    {
     "data": {
      "text/html": [
       "<div>\n",
       "<style scoped>\n",
       "    .dataframe tbody tr th:only-of-type {\n",
       "        vertical-align: middle;\n",
       "    }\n",
       "\n",
       "    .dataframe tbody tr th {\n",
       "        vertical-align: top;\n",
       "    }\n",
       "\n",
       "    .dataframe thead th {\n",
       "        text-align: right;\n",
       "    }\n",
       "</style>\n",
       "<table border=\"1\" class=\"dataframe\">\n",
       "  <thead>\n",
       "    <tr style=\"text-align: right;\">\n",
       "      <th></th>\n",
       "      <th>filenames</th>\n",
       "      <th>labels</th>\n",
       "      <th>row</th>\n",
       "    </tr>\n",
       "  </thead>\n",
       "  <tbody>\n",
       "    <tr>\n",
       "      <th>27</th>\n",
       "      <td>safety_bike_s_000390.png</td>\n",
       "      <td>8</td>\n",
       "      <td>27</td>\n",
       "    </tr>\n",
       "    <tr>\n",
       "      <th>28</th>\n",
       "      <td>bike_s_000658.png</td>\n",
       "      <td>8</td>\n",
       "      <td>28</td>\n",
       "    </tr>\n",
       "    <tr>\n",
       "      <th>116</th>\n",
       "      <td>velocipede_s_001744.png</td>\n",
       "      <td>8</td>\n",
       "      <td>116</td>\n",
       "    </tr>\n",
       "    <tr>\n",
       "      <th>161</th>\n",
       "      <td>bike_s_000643.png</td>\n",
       "      <td>8</td>\n",
       "      <td>161</td>\n",
       "    </tr>\n",
       "    <tr>\n",
       "      <th>319</th>\n",
       "      <td>ordinary_bicycle_s_000437.png</td>\n",
       "      <td>8</td>\n",
       "      <td>319</td>\n",
       "    </tr>\n",
       "  </tbody>\n",
       "</table>\n",
       "</div>"
      ],
      "text/plain": [
       "                         filenames  labels  row\n",
       "27        safety_bike_s_000390.png       8   27\n",
       "28               bike_s_000658.png       8   28\n",
       "116        velocipede_s_001744.png       8  116\n",
       "161              bike_s_000643.png       8  161\n",
       "319  ordinary_bicycle_s_000437.png       8  319"
      ]
     },
     "execution_count": 41,
     "metadata": {},
     "output_type": "execute_result"
    }
   ],
   "source": [
    "#Construct the dataframe\n",
    "df_test = pd.DataFrame({\n",
    "    \"filenames\": dataset_test[b'filenames'],\n",
    "    \"labels\": dataset_test[b'fine_labels'],\n",
    "    \"row\": range(len(dataset_test[b'filenames']))\n",
    "})\n",
    "\n",
    "# Drop all rows from df_train where label is not 8 or 48\n",
    "df_test = df_test[df_test[\"labels\"].isin([8, 48])]\n",
    "\n",
    "# Decode df_train.filenames so they are regular strings\n",
    "df_test[\"filenames\"] = df_test[\"filenames\"].apply(\n",
    "    lambda x: x.decode(\"utf-8\")\n",
    ")\n",
    "\n",
    "df_test.head(5)"
   ]
  },
  {
   "cell_type": "markdown",
   "metadata": {},
   "source": [
    "Now that the data is filtered for just our classes, we can save all our images."
   ]
  },
  {
   "cell_type": "code",
   "execution_count": 71,
   "metadata": {},
   "outputs": [],
   "source": [
    "!mkdir ./train\n",
    "!mkdir ./test"
   ]
  },
  {
   "cell_type": "markdown",
   "metadata": {},
   "source": [
    "In the previous sections we introduced you to several key snippets of code:\n",
    "\n",
    "1. Grabbing the image data:\n",
    "\n",
    "```python\n",
    "dataset_train[b'data'][0]\n",
    "```\n",
    "\n",
    "2. A simple idiom for stacking the image data into the right shape\n",
    "\n",
    "```python\n",
    "import numpy as np\n",
    "np.dstack((\n",
    "    row[0:1024].reshape(32,32),\n",
    "    row[1024:2048].reshape(32,32),\n",
    "    row[2048:].reshape(32,32)\n",
    "))\n",
    "```\n",
    "\n",
    "3. A simple `matplotlib` utility for saving images\n",
    "\n",
    "```python\n",
    "plt.imsave(path+row['filenames'], target)\n",
    "```\n",
    "\n",
    "Compose these together into a function that saves all the images into the `./test` and `./train` directories. Use the comments in the body of the `save_images` function below to guide your construction of the function:\n"
   ]
  },
  {
   "cell_type": "code",
   "execution_count": null,
   "metadata": {},
   "outputs": [],
   "source": [
    "import numpy as np\n",
    "import matplotlib.pyplot as plt\n",
    "\n",
    "def save_images(row_index, df, dataset):\n",
    "    # Use the mapped original index to grab the image data\n",
    "    original_row_index = df.iloc[row_index][\"row\"]\n",
    "    img_data = dataset[b'data'][original_row_index]\n",
    "\n",
    "    # Consolidated stacking/reshaping from earlier\n",
    "    target = np.dstack((\n",
    "        img_data[0:1024].reshape(32, 32),     # Red channel\n",
    "        img_data[1024:2048].reshape(32, 32),  # Green channel\n",
    "        img_data[2048:].reshape(32, 32)       # Blue channel\n",
    "    ))\n",
    "\n",
    "    # Save the image using matplotlib's imsave\n",
    "    plt.imsave(f'train/{df.iloc[row_index][\"filenames\"]}', target)\n",
    "\n",
    "    # Return the filename for debugging or confirmation\n",
    "    print(row_index)\n",
    "    return df.iloc[row_index][\"filenames\"]\n",
    "\n",
    "# Save all images using the save_images function\n",
    "for i in range(len(df_train)):\n",
    "    filename = save_images(i, df_train, dataset_train)\n",
    "    print(f\"Saved {filename}\")\n"
   ]
  },
  {
   "cell_type": "markdown",
   "metadata": {},
   "source": [
    "### 3. Load the data\n",
    "\n",
    "Now we can load the data into S3.\n",
    "\n",
    "Using the sagemaker SDK grab the current region, execution role, and bucket."
   ]
  },
  {
   "cell_type": "code",
   "execution_count": null,
   "metadata": {},
   "outputs": [],
   "source": [
    "import sagemaker\n",
    "import boto3\n",
    "\n",
    "# Initialize the SageMaker session\n",
    "sagemaker_session = sagemaker.Session()\n",
    "\n",
    "\n",
    "bucket= sagemaker_session.default_bucket()\n",
    "print(\"Default Bucket: {}\".format(bucket))\n",
    "\n",
    "region = boto3.Session().region_name\n",
    "print(\"AWS Region: {}\".format(region))\n",
    "\n",
    "role = sagemaker.get_execution_role()\n",
    "print(\"RoleArn: {}\".format(role))"
   ]
  },
  {
   "cell_type": "markdown",
   "metadata": {},
   "source": [
    "With this data we can easily sync your data up into S3!"
   ]
  },
  {
   "cell_type": "code",
   "execution_count": null,
   "metadata": {},
   "outputs": [
    {
     "name": "stdout",
     "output_type": "stream",
     "text": [
      "upload: train/bicycle_s_000021.png to s3://sagemaker-us-east-1-651522891008/train/bicycle_s_000021.png\n",
      "upload: train/bicycle_s_000043.png to s3://sagemaker-us-east-1-651522891008/train/bicycle_s_000043.png\n",
      "upload: train/bicycle_s_000017.png to s3://sagemaker-us-east-1-651522891008/train/bicycle_s_000017.png\n",
      "upload: train/bicycle_s_000038.png to s3://sagemaker-us-east-1-651522891008/train/bicycle_s_000038.png\n",
      "upload: train/bicycle_s_000066.png to s3://sagemaker-us-east-1-651522891008/train/bicycle_s_000066.png\n",
      "upload: train/bicycle_s_000051.png to s3://sagemaker-us-east-1-651522891008/train/bicycle_s_000051.png\n",
      "upload: train/bicycle_s_000099.png to s3://sagemaker-us-east-1-651522891008/train/bicycle_s_000099.png\n",
      "upload: train/bicycle_s_000035.png to s3://sagemaker-us-east-1-651522891008/train/bicycle_s_000035.png\n",
      "upload: train/bicycle_s_000039.png to s3://sagemaker-us-east-1-651522891008/train/bicycle_s_000039.png\n",
      "upload: train/bicycle_s_000137.png to s3://sagemaker-us-east-1-651522891008/train/bicycle_s_000137.png\n",
      "upload: train/bicycle_s_000149.png to s3://sagemaker-us-east-1-651522891008/train/bicycle_s_000149.png\n",
      "upload: train/bicycle_s_000071.png to s3://sagemaker-us-east-1-651522891008/train/bicycle_s_000071.png\n",
      "upload: train/bicycle_s_000231.png to s3://sagemaker-us-east-1-651522891008/train/bicycle_s_000231.png\n",
      "upload: train/bicycle_s_000159.png to s3://sagemaker-us-east-1-651522891008/train/bicycle_s_000159.png\n",
      "upload: train/bicycle_s_000156.png to s3://sagemaker-us-east-1-651522891008/train/bicycle_s_000156.png\n",
      "upload: train/bicycle_s_000235.png to s3://sagemaker-us-east-1-651522891008/train/bicycle_s_000235.png\n",
      "upload: train/bicycle_s_000124.png to s3://sagemaker-us-east-1-651522891008/train/bicycle_s_000124.png\n",
      "upload: train/bicycle_s_000147.png to s3://sagemaker-us-east-1-651522891008/train/bicycle_s_000147.png\n",
      "upload: train/bicycle_s_000180.png to s3://sagemaker-us-east-1-651522891008/train/bicycle_s_000180.png\n",
      "upload: train/bicycle_s_000243.png to s3://sagemaker-us-east-1-651522891008/train/bicycle_s_000243.png\n",
      "upload: train/bicycle_s_000399.png to s3://sagemaker-us-east-1-651522891008/train/bicycle_s_000399.png\n",
      "upload: train/bicycle_s_000396.png to s3://sagemaker-us-east-1-651522891008/train/bicycle_s_000396.png\n",
      "upload: train/bicycle_s_000369.png to s3://sagemaker-us-east-1-651522891008/train/bicycle_s_000369.png\n",
      "upload: train/bicycle_s_000371.png to s3://sagemaker-us-east-1-651522891008/train/bicycle_s_000371.png\n",
      "upload: train/bicycle_s_000279.png to s3://sagemaker-us-east-1-651522891008/train/bicycle_s_000279.png\n",
      "upload: train/bicycle_s_000408.png to s3://sagemaker-us-east-1-651522891008/train/bicycle_s_000408.png\n",
      "upload: train/bicycle_s_000392.png to s3://sagemaker-us-east-1-651522891008/train/bicycle_s_000392.png\n",
      "upload: train/bicycle_s_000435.png to s3://sagemaker-us-east-1-651522891008/train/bicycle_s_000435.png\n",
      "upload: train/bicycle_s_000467.png to s3://sagemaker-us-east-1-651522891008/train/bicycle_s_000467.png\n",
      "upload: train/bicycle_s_000282.png to s3://sagemaker-us-east-1-651522891008/train/bicycle_s_000282.png\n",
      "upload: train/bicycle_s_000463.png to s3://sagemaker-us-east-1-651522891008/train/bicycle_s_000463.png\n",
      "upload: train/bicycle_s_000314.png to s3://sagemaker-us-east-1-651522891008/train/bicycle_s_000314.png\n",
      "upload: train/bicycle_s_000537.png to s3://sagemaker-us-east-1-651522891008/train/bicycle_s_000537.png\n",
      "upload: train/bicycle_s_000522.png to s3://sagemaker-us-east-1-651522891008/train/bicycle_s_000522.png\n",
      "upload: train/bicycle_s_000536.png to s3://sagemaker-us-east-1-651522891008/train/bicycle_s_000536.png\n",
      "upload: train/bicycle_s_000668.png to s3://sagemaker-us-east-1-651522891008/train/bicycle_s_000668.png\n",
      "upload: train/bicycle_s_000437.png to s3://sagemaker-us-east-1-651522891008/train/bicycle_s_000437.png\n",
      "upload: train/bicycle_s_000723.png to s3://sagemaker-us-east-1-651522891008/train/bicycle_s_000723.png\n",
      "upload: train/bicycle_s_000546.png to s3://sagemaker-us-east-1-651522891008/train/bicycle_s_000546.png\n",
      "upload: train/bicycle_s_000491.png to s3://sagemaker-us-east-1-651522891008/train/bicycle_s_000491.png\n",
      "upload: train/bicycle_s_000667.png to s3://sagemaker-us-east-1-651522891008/train/bicycle_s_000667.png\n",
      "upload: train/bicycle_s_000569.png to s3://sagemaker-us-east-1-651522891008/train/bicycle_s_000569.png\n",
      "upload: train/bicycle_s_000561.png to s3://sagemaker-us-east-1-651522891008/train/bicycle_s_000561.png\n",
      "upload: train/bicycle_s_000753.png to s3://sagemaker-us-east-1-651522891008/train/bicycle_s_000753.png\n",
      "upload: train/bicycle_s_000775.png to s3://sagemaker-us-east-1-651522891008/train/bicycle_s_000775.png\n",
      "Completed 123.2 KiB/~323.7 KiB (290.2 KiB/s) with ~75 file(s) remaining (calculating...)\r"
     ]
    }
   ],
   "source": [
    "import os\n",
    "\n",
    "os.environ[\"DEFAULT_S3_BUCKET\"] = bucket\n",
    "!aws s3 sync ./train s3://${DEFAULT_S3_BUCKET}/train/\n",
    "!aws s3 sync ./test s3://${DEFAULT_S3_BUCKET}/test/"
   ]
  },
  {
   "cell_type": "markdown",
   "metadata": {},
   "source": [
    "And that's it! You can check the bucket and verify that the items were uploaded.\n",
    "\n",
    "## Model Training\n",
    "\n",
    "For Image Classification, Sagemaker [also expects metadata](https://docs.aws.amazon.com/sagemaker/latest/dg/image-classification.html) e.g. in the form of TSV files with labels and filepaths. We can generate these using our Pandas DataFrames from earlier:"
   ]
  },
  {
   "cell_type": "code",
   "execution_count": 77,
   "metadata": {},
   "outputs": [],
   "source": [
    "def to_metadata_file(df, prefix):\n",
    "    df[\"s3_path\"] = df[\"filenames\"]\n",
    "    df[\"labels\"] = df[\"labels\"].apply(lambda x: 0 if x==8 else 1)\n",
    "    return df[[\"row\", \"labels\", \"s3_path\"]].to_csv(\n",
    "        f\"{prefix}.lst\", sep=\"\\t\", index=False, header=False\n",
    "    )\n",
    "    \n",
    "to_metadata_file(df_train.copy(), \"train\")\n",
    "to_metadata_file(df_test.copy(), \"test\")"
   ]
  },
  {
   "cell_type": "markdown",
   "metadata": {},
   "source": [
    "We can also upload our manifest files:"
   ]
  },
  {
   "cell_type": "code",
   "execution_count": 78,
   "metadata": {},
   "outputs": [],
   "source": [
    "    # Upload files\n",
    "boto3.Session().resource('s3').Bucket(\n",
    "    bucket).Object('train.lst').upload_file('./train.lst')\n",
    "boto3.Session().resource('s3').Bucket(\n",
    "    bucket).Object('test.lst').upload_file('./test.lst')"
   ]
  },
  {
   "cell_type": "markdown",
   "metadata": {},
   "source": [
    "Using the `bucket` and `region` info we can get the latest prebuilt container to run our training job, and define an output location on our s3 bucket for the model. Use the `image_uris` function from the SageMaker SDK to retrieve the latest `image-classification` image below:"
   ]
  },
  {
   "cell_type": "code",
   "execution_count": 79,
   "metadata": {},
   "outputs": [],
   "source": [
    "# Use the image_uris function to retrieve the latest 'image-classification' image \n",
    "algo_image = algo_image = sagemaker.image_uris.retrieve(\n",
    "    framework='image-classification', \n",
    "    region=region\n",
    ")\n",
    "s3_output_location = f\"s3://{bucket}/models/image_model\""
   ]
  },
  {
   "cell_type": "markdown",
   "metadata": {},
   "source": [
    "We're ready to create an estimator! Create an estimator `img_classifier_model` that uses one instance of `ml.p3.2xlarge`. Ensure that y ou use the output location we defined above - we'll be referring to that later!"
   ]
  },
  {
   "cell_type": "code",
   "execution_count": 81,
   "metadata": {},
   "outputs": [
    {
     "name": "stdout",
     "output_type": "stream",
     "text": [
      "Estimator created successfully!\n"
     ]
    }
   ],
   "source": [
    "img_classifier_model = sagemaker.estimator.Estimator(\n",
    "    image_uri=algo_image,  # The Docker image URI we retrieved earlier\n",
    "    role=role,  # The execution role we retrieved earlier\n",
    "    instance_count=1,  # Number of instances\n",
    "    instance_type='ml.p3.2xlarge',  # Instance type\n",
    "    output_path=s3_output_location,  # S3 location to store the model artifacts\n",
    "    sagemaker_session=sagemaker_session  # The SageMaker session we initialized earlier\n",
    ")\n",
    "\n",
    "print(\"Estimator created successfully!\")"
   ]
  },
  {
   "cell_type": "markdown",
   "metadata": {},
   "source": [
    "We can also set a few key hyperparameters and define the inputs for our model:"
   ]
  },
  {
   "cell_type": "code",
   "execution_count": 85,
   "metadata": {},
   "outputs": [
    {
     "data": {
      "text/html": [
       "<div>\n",
       "<style scoped>\n",
       "    .dataframe tbody tr th:only-of-type {\n",
       "        vertical-align: middle;\n",
       "    }\n",
       "\n",
       "    .dataframe tbody tr th {\n",
       "        vertical-align: top;\n",
       "    }\n",
       "\n",
       "    .dataframe thead th {\n",
       "        text-align: right;\n",
       "    }\n",
       "</style>\n",
       "<table border=\"1\" class=\"dataframe\">\n",
       "  <thead>\n",
       "    <tr style=\"text-align: right;\">\n",
       "      <th></th>\n",
       "      <th>filenames</th>\n",
       "      <th>labels</th>\n",
       "      <th>row</th>\n",
       "    </tr>\n",
       "  </thead>\n",
       "  <tbody>\n",
       "    <tr>\n",
       "      <th>16</th>\n",
       "      <td>bike_s_000682.png</td>\n",
       "      <td>8</td>\n",
       "      <td>16</td>\n",
       "    </tr>\n",
       "    <tr>\n",
       "      <th>30</th>\n",
       "      <td>bike_s_000127.png</td>\n",
       "      <td>8</td>\n",
       "      <td>30</td>\n",
       "    </tr>\n",
       "    <tr>\n",
       "      <th>130</th>\n",
       "      <td>cycle_s_002598.png</td>\n",
       "      <td>8</td>\n",
       "      <td>130</td>\n",
       "    </tr>\n",
       "    <tr>\n",
       "      <th>152</th>\n",
       "      <td>minibike_s_000824.png</td>\n",
       "      <td>48</td>\n",
       "      <td>152</td>\n",
       "    </tr>\n",
       "    <tr>\n",
       "      <th>195</th>\n",
       "      <td>motorcycle_s_001856.png</td>\n",
       "      <td>48</td>\n",
       "      <td>195</td>\n",
       "    </tr>\n",
       "  </tbody>\n",
       "</table>\n",
       "</div>"
      ],
      "text/plain": [
       "                   filenames  labels  row\n",
       "16         bike_s_000682.png       8   16\n",
       "30         bike_s_000127.png       8   30\n",
       "130       cycle_s_002598.png       8  130\n",
       "152    minibike_s_000824.png      48  152\n",
       "195  motorcycle_s_001856.png      48  195"
      ]
     },
     "execution_count": 85,
     "metadata": {},
     "output_type": "execute_result"
    }
   ],
   "source": [
    "df_train.head()"
   ]
  },
  {
   "cell_type": "code",
   "execution_count": 90,
   "metadata": {},
   "outputs": [],
   "source": [
    "img_classifier_model.set_hyperparameters(\n",
    "    image_shape= '3,32,32',\n",
    "    num_classes= 2,\n",
    "    num_training_samples= 1000)"
   ]
  },
  {
   "cell_type": "markdown",
   "metadata": {},
   "source": [
    "The `image-classification` image uses four input channels with very specific input parameters. For convenience, we've provided them below:"
   ]
  },
  {
   "cell_type": "code",
   "execution_count": 91,
   "metadata": {},
   "outputs": [],
   "source": [
    "from sagemaker.debugger import Rule, rule_configs\n",
    "from sagemaker.session import TrainingInput\n",
    "model_inputs = {\n",
    "        \"train\": sagemaker.inputs.TrainingInput(\n",
    "            s3_data=f\"s3://{bucket}/train/\",\n",
    "            content_type=\"application/x-image\"\n",
    "        ),\n",
    "        \"validation\": sagemaker.inputs.TrainingInput(\n",
    "            s3_data=f\"s3://{bucket}/test/\",\n",
    "            content_type=\"application/x-image\"\n",
    "        ),\n",
    "        \"train_lst\": sagemaker.inputs.TrainingInput(\n",
    "            s3_data=f\"s3://{bucket}/train.lst\",\n",
    "            content_type=\"application/x-image\"\n",
    "        ),\n",
    "        \"validation_lst\": sagemaker.inputs.TrainingInput(\n",
    "            s3_data=f\"s3://{bucket}/test.lst\",\n",
    "            content_type=\"application/x-image\"\n",
    "        )\n",
    "}"
   ]
  },
  {
   "cell_type": "markdown",
   "metadata": {},
   "source": [
    "Great, now we can train the model using the model_inputs. In the cell below, call the `fit` method on our model,:"
   ]
  },
  {
   "cell_type": "code",
   "execution_count": 92,
   "metadata": {},
   "outputs": [
    {
     "name": "stderr",
     "output_type": "stream",
     "text": [
      "INFO:sagemaker:Creating training-job with name: image-classification-2024-08-15-16-18-08-399\n"
     ]
    },
    {
     "name": "stdout",
     "output_type": "stream",
     "text": [
      "2024-08-15 16:18:08 Starting - Starting the training job...\n",
      "2024-08-15 16:18:25 Pending - Training job waiting for capacity...\n",
      "2024-08-15 16:18:50 Pending - Preparing the instances for training...\n",
      "2024-08-15 16:19:32 Downloading - Downloading input data...\n",
      "2024-08-15 16:19:58 Downloading - Downloading the training image..............................\n",
      "2024-08-15 16:25:01 Training - Training image download completed. Training in progress...\u001b[34mDocker entrypoint called with argument(s): train\u001b[0m\n",
      "\u001b[34mRunning default environment configuration script\u001b[0m\n",
      "\u001b[34mNvidia gpu devices, drivers and cuda toolkit versions (only available on hosts with GPU):\u001b[0m\n",
      "\u001b[34mThu Aug 15 16:25:20 2024       \u001b[0m\n",
      "\u001b[34m+---------------------------------------------------------------------------------------+\u001b[0m\n",
      "\u001b[34m| NVIDIA-SMI 535.183.01             Driver Version: 535.183.01   CUDA Version: 12.2     |\u001b[0m\n",
      "\u001b[34m|-----------------------------------------+----------------------+----------------------+\u001b[0m\n",
      "\u001b[34m| GPU  Name                 Persistence-M | Bus-Id        Disp.A | Volatile Uncorr. ECC |\u001b[0m\n",
      "\u001b[34m| Fan  Temp   Perf          Pwr:Usage/Cap |         Memory-Usage | GPU-Util  Compute M. |\u001b[0m\n",
      "\u001b[34m|                                         |                      |               MIG M. |\u001b[0m\n",
      "\u001b[34m|=========================================+======================+======================|\u001b[0m\n",
      "\u001b[34m|   0  Tesla V100-SXM2-16GB           On  | 00000000:00:1E.0 Off |                    0 |\u001b[0m\n",
      "\u001b[34m| N/A   41C    P0              25W / 300W |      0MiB / 16384MiB |      0%      Default |\u001b[0m\n",
      "\u001b[34m|                                         |                      |                  N/A |\u001b[0m\n",
      "\u001b[34m+-----------------------------------------+----------------------+----------------------+\n",
      "                                                                                         \u001b[0m\n",
      "\u001b[34m+---------------------------------------------------------------------------------------+\u001b[0m\n",
      "\u001b[34m| Processes:                                                                            |\u001b[0m\n",
      "\u001b[34m|  GPU   GI   CI        PID   Type   Process name                            GPU Memory |\u001b[0m\n",
      "\u001b[34m|        ID   ID                                                             Usage      |\u001b[0m\n",
      "\u001b[34m|=======================================================================================|\u001b[0m\n",
      "\u001b[34m|  No running processes found                                                           |\u001b[0m\n",
      "\u001b[34m+---------------------------------------------------------------------------------------+\u001b[0m\n",
      "\u001b[34mChecking for nvidia driver and cuda compatibility.\u001b[0m\n",
      "\u001b[34mCUDA Compatibility driver provided.\u001b[0m\n",
      "\u001b[34mProceeding with compatibility check between driver, cuda-toolkit and cuda-compat.\u001b[0m\n",
      "\u001b[34mDetected cuda-toolkit version: 11.1.\u001b[0m\n",
      "\u001b[34mDetected cuda-compat version: 455.32.00.\u001b[0m\n",
      "\u001b[34mDetected Nvidia driver version: 535.183.01.\u001b[0m\n",
      "\u001b[34mNvidia driver compatible with cuda-toolkit. Disabling cuda-compat.\u001b[0m\n",
      "\u001b[34m/opt/amazon/lib/python3.8/site-packages/mxnet/model.py:97: SyntaxWarning: \"is\" with a literal. Did you mean \"==\"?\n",
      "  if num_device is 1 and 'dist' not in kvstore:\u001b[0m\n",
      "\u001b[34m[08/15/2024 16:25:23 INFO 140273210988352] Reading default configuration from /opt/amazon/lib/python3.8/site-packages/image_classification/default-input.json: {'use_pretrained_model': 0, 'num_layers': 152, 'epochs': 30, 'learning_rate': 0.1, 'lr_scheduler_factor': 0.1, 'optimizer': 'sgd', 'momentum': 0, 'weight_decay': 0.0001, 'beta_1': 0.9, 'beta_2': 0.999, 'eps': 1e-08, 'gamma': 0.9, 'mini_batch_size': 32, 'image_shape': '3,224,224', 'precision_dtype': 'float32'}\u001b[0m\n",
      "\u001b[34m[08/15/2024 16:25:23 INFO 140273210988352] Merging with provided configuration from /opt/ml/input/config/hyperparameters.json: {'image_shape': '3,32,32', 'num_classes': '2', 'num_training_samples': '1000'}\u001b[0m\n",
      "\u001b[34m[08/15/2024 16:25:23 INFO 140273210988352] Final configuration: {'use_pretrained_model': 0, 'num_layers': 152, 'epochs': 30, 'learning_rate': 0.1, 'lr_scheduler_factor': 0.1, 'optimizer': 'sgd', 'momentum': 0, 'weight_decay': 0.0001, 'beta_1': 0.9, 'beta_2': 0.999, 'eps': 1e-08, 'gamma': 0.9, 'mini_batch_size': 32, 'image_shape': '3,32,32', 'precision_dtype': 'float32', 'num_classes': '2', 'num_training_samples': '1000'}\u001b[0m\n",
      "\u001b[34m[08/15/2024 16:25:23 INFO 140273210988352] Searching for .lst files in /opt/ml/input/data/train_lst.\u001b[0m\n",
      "\u001b[34m[08/15/2024 16:25:23 INFO 140273210988352] Creating record files for train.lst\u001b[0m\n",
      "\u001b[34m[08/15/2024 16:25:24 INFO 140273210988352] Done creating record files...\u001b[0m\n",
      "\u001b[34m[08/15/2024 16:25:24 INFO 140273210988352] Searching for .lst files in /opt/ml/input/data/validation_lst.\u001b[0m\n",
      "\u001b[34m[08/15/2024 16:25:24 INFO 140273210988352] Creating record files for test.lst\u001b[0m\n",
      "\u001b[34m[08/15/2024 16:25:24 INFO 140273210988352] Done creating record files...\u001b[0m\n",
      "\u001b[34m[08/15/2024 16:25:24 INFO 140273210988352] use_pretrained_model: 0\u001b[0m\n",
      "\u001b[34m[08/15/2024 16:25:24 INFO 140273210988352] multi_label: 0\u001b[0m\n",
      "\u001b[34m[08/15/2024 16:25:24 INFO 140273210988352] Performing random weight initialization\u001b[0m\n",
      "\u001b[34m[08/15/2024 16:25:24 INFO 140273210988352] ---- Parameters ----\u001b[0m\n",
      "\u001b[34m[08/15/2024 16:25:24 INFO 140273210988352] num_layers: 152\u001b[0m\n",
      "\u001b[34m[08/15/2024 16:25:24 INFO 140273210988352] data type: <class 'numpy.float32'>\u001b[0m\n",
      "\u001b[34m[08/15/2024 16:25:24 INFO 140273210988352] epochs: 30\u001b[0m\n",
      "\u001b[34m[08/15/2024 16:25:24 INFO 140273210988352] optimizer: sgd\u001b[0m\n",
      "\u001b[34m[08/15/2024 16:25:24 INFO 140273210988352] momentum: 0.9\u001b[0m\n",
      "\u001b[34m[08/15/2024 16:25:24 INFO 140273210988352] weight_decay: 0.0001\u001b[0m\n",
      "\u001b[34m[08/15/2024 16:25:24 INFO 140273210988352] learning_rate: 0.1\u001b[0m\n",
      "\u001b[34m[08/15/2024 16:25:24 INFO 140273210988352] num_training_samples: 1000\u001b[0m\n",
      "\u001b[34m[08/15/2024 16:25:24 INFO 140273210988352] mini_batch_size: 32\u001b[0m\n",
      "\u001b[34m[08/15/2024 16:25:24 INFO 140273210988352] image_shape: 3,32,32\u001b[0m\n",
      "\u001b[34m[08/15/2024 16:25:24 INFO 140273210988352] num_classes: 2\u001b[0m\n",
      "\u001b[34m[08/15/2024 16:25:24 INFO 140273210988352] augmentation_type: None\u001b[0m\n",
      "\u001b[34m[08/15/2024 16:25:24 INFO 140273210988352] kv_store: device\u001b[0m\n",
      "\u001b[34m[08/15/2024 16:25:24 INFO 140273210988352] checkpoint_frequency not set, will store the best model\u001b[0m\n",
      "\u001b[34m[08/15/2024 16:25:24 INFO 140273210988352] --------------------\u001b[0m\n",
      "\u001b[34m/opt/amazon/python3.8/lib/python3.8/subprocess.py:848: RuntimeWarning: line buffering (buffering=1) isn't supported in binary mode, the default buffer size will be used\n",
      "  self.stdout = io.open(c2pread, 'rb', bufsize)\u001b[0m\n",
      "\u001b[34m[08/15/2024 16:25:24 INFO 140273210988352] Setting number of threads: 7\u001b[0m\n",
      "\u001b[34m[16:25:28] /opt/brazil-pkg-cache/packages/AIAlgorithmsMXNet/AIAlgorithmsMXNet-1.4.x_ecl_Cuda_11.1.x.379.0/AL2_x86_64/generic-flavor/src/src/operator/nn/./cudnn/./cudnn_algoreg-inl.h:97: Running performance tests to find the best convolution algorithm, this can take a while... (setting env variable MXNET_CUDNN_AUTOTUNE_DEFAULT to 0 to disable)\u001b[0m\n",
      "\u001b[34m[08/15/2024 16:25:33 INFO 140273210988352] Epoch[0] Batch [20]#011Speed: 122.147 samples/sec#011accuracy=0.595238\u001b[0m\n",
      "\u001b[34m[08/15/2024 16:25:35 INFO 140273210988352] Epoch[0] Train-accuracy=0.643145\u001b[0m\n",
      "\u001b[34m[08/15/2024 16:25:35 INFO 140273210988352] Epoch[0] Time cost=6.866\u001b[0m\n",
      "\u001b[34m[08/15/2024 16:25:35 INFO 140273210988352] Epoch[0] Validation-accuracy=0.604167\u001b[0m\n",
      "\u001b[34m[08/15/2024 16:25:36 INFO 140273210988352] Storing the best model with validation accuracy: 0.604167\u001b[0m\n",
      "\u001b[34m[08/15/2024 16:25:36 INFO 140273210988352] Saved checkpoint to \"/opt/ml/model/image-classification-0001.params\"\u001b[0m\n",
      "\u001b[34m[08/15/2024 16:25:39 INFO 140273210988352] Epoch[1] Batch [20]#011Speed: 184.830 samples/sec#011accuracy=0.681548\u001b[0m\n",
      "\u001b[34m[08/15/2024 16:25:41 INFO 140273210988352] Epoch[1] Train-accuracy=0.691532\u001b[0m\n",
      "\u001b[34m[08/15/2024 16:25:41 INFO 140273210988352] Epoch[1] Time cost=5.124\u001b[0m\n",
      "\u001b[34m[08/15/2024 16:25:42 INFO 140273210988352] Epoch[1] Validation-accuracy=0.583333\u001b[0m\n",
      "\u001b[34m[08/15/2024 16:25:45 INFO 140273210988352] Epoch[2] Batch [20]#011Speed: 193.082 samples/sec#011accuracy=0.720238\u001b[0m\n",
      "\u001b[34m[08/15/2024 16:25:47 INFO 140273210988352] Epoch[2] Train-accuracy=0.718750\u001b[0m\n",
      "\u001b[34m[08/15/2024 16:25:47 INFO 140273210988352] Epoch[2] Time cost=4.947\u001b[0m\n",
      "\u001b[34m[08/15/2024 16:25:47 INFO 140273210988352] Epoch[2] Validation-accuracy=0.822917\u001b[0m\n",
      "\u001b[34m[08/15/2024 16:25:48 INFO 140273210988352] Storing the best model with validation accuracy: 0.822917\u001b[0m\n",
      "\u001b[34m[08/15/2024 16:25:48 INFO 140273210988352] Saved checkpoint to \"/opt/ml/model/image-classification-0003.params\"\u001b[0m\n",
      "\u001b[34m[08/15/2024 16:25:52 INFO 140273210988352] Epoch[3] Batch [20]#011Speed: 188.713 samples/sec#011accuracy=0.755952\u001b[0m\n",
      "\u001b[34m[08/15/2024 16:25:53 INFO 140273210988352] Epoch[3] Train-accuracy=0.779234\u001b[0m\n",
      "\u001b[34m[08/15/2024 16:25:53 INFO 140273210988352] Epoch[3] Time cost=5.016\u001b[0m\n",
      "\u001b[34m[08/15/2024 16:25:54 INFO 140273210988352] Epoch[3] Validation-accuracy=0.821429\u001b[0m\n",
      "\u001b[34m[08/15/2024 16:25:58 INFO 140273210988352] Epoch[4] Batch [20]#011Speed: 191.758 samples/sec#011accuracy=0.793155\u001b[0m\n",
      "\u001b[34m[08/15/2024 16:25:59 INFO 140273210988352] Epoch[4] Train-accuracy=0.795363\u001b[0m\n",
      "\u001b[34m[08/15/2024 16:25:59 INFO 140273210988352] Epoch[4] Time cost=4.954\u001b[0m\n",
      "\u001b[34m[08/15/2024 16:26:00 INFO 140273210988352] Epoch[4] Validation-accuracy=0.807292\u001b[0m\n",
      "\u001b[34m[08/15/2024 16:26:04 INFO 140273210988352] Epoch[5] Batch [20]#011Speed: 186.751 samples/sec#011accuracy=0.812500\u001b[0m\n",
      "\u001b[34m[08/15/2024 16:26:05 INFO 140273210988352] Epoch[5] Train-accuracy=0.789315\u001b[0m\n",
      "\u001b[34m[08/15/2024 16:26:05 INFO 140273210988352] Epoch[5] Time cost=5.091\u001b[0m\n",
      "\u001b[34m[08/15/2024 16:26:06 INFO 140273210988352] Epoch[5] Validation-accuracy=0.770833\u001b[0m\n",
      "\u001b[34m[08/15/2024 16:26:09 INFO 140273210988352] Epoch[6] Batch [20]#011Speed: 192.826 samples/sec#011accuracy=0.806548\u001b[0m\n",
      "\u001b[34m[08/15/2024 16:26:11 INFO 140273210988352] Epoch[6] Train-accuracy=0.807460\u001b[0m\n",
      "\u001b[34m[08/15/2024 16:26:11 INFO 140273210988352] Epoch[6] Time cost=4.932\u001b[0m\n",
      "\u001b[34m[08/15/2024 16:26:12 INFO 140273210988352] Epoch[6] Validation-accuracy=0.822917\u001b[0m\n",
      "\u001b[34m[08/15/2024 16:26:15 INFO 140273210988352] Epoch[7] Batch [20]#011Speed: 191.697 samples/sec#011accuracy=0.812500\u001b[0m\n",
      "\u001b[34m[08/15/2024 16:26:17 INFO 140273210988352] Epoch[7] Train-accuracy=0.808468\u001b[0m\n",
      "\u001b[34m[08/15/2024 16:26:17 INFO 140273210988352] Epoch[7] Time cost=4.968\u001b[0m\n",
      "\u001b[34m[08/15/2024 16:26:18 INFO 140273210988352] Epoch[7] Validation-accuracy=0.816964\u001b[0m\n",
      "\u001b[34m[08/15/2024 16:26:21 INFO 140273210988352] Epoch[8] Batch [20]#011Speed: 190.178 samples/sec#011accuracy=0.805060\u001b[0m\n",
      "\u001b[34m[08/15/2024 16:26:23 INFO 140273210988352] Epoch[8] Train-accuracy=0.807460\u001b[0m\n",
      "\u001b[34m[08/15/2024 16:26:23 INFO 140273210988352] Epoch[8] Time cost=4.983\u001b[0m\n",
      "\u001b[34m[08/15/2024 16:26:23 INFO 140273210988352] Epoch[8] Validation-accuracy=0.822917\u001b[0m\n",
      "\u001b[34m[08/15/2024 16:26:27 INFO 140273210988352] Epoch[9] Batch [20]#011Speed: 192.766 samples/sec#011accuracy=0.809524\u001b[0m\n",
      "\u001b[34m[08/15/2024 16:26:29 INFO 140273210988352] Epoch[9] Train-accuracy=0.811492\u001b[0m\n",
      "\u001b[34m[08/15/2024 16:26:29 INFO 140273210988352] Epoch[9] Time cost=4.950\u001b[0m\n",
      "\u001b[34m[08/15/2024 16:26:29 INFO 140273210988352] Epoch[9] Validation-accuracy=0.802083\u001b[0m\n",
      "\u001b[34m[08/15/2024 16:26:33 INFO 140273210988352] Epoch[10] Batch [20]#011Speed: 192.276 samples/sec#011accuracy=0.828869\u001b[0m\n",
      "\u001b[34m[08/15/2024 16:26:35 INFO 140273210988352] Epoch[10] Train-accuracy=0.832661\u001b[0m\n",
      "\u001b[34m[08/15/2024 16:26:35 INFO 140273210988352] Epoch[10] Time cost=4.973\u001b[0m\n",
      "\u001b[34m[08/15/2024 16:26:35 INFO 140273210988352] Epoch[10] Validation-accuracy=0.817708\u001b[0m\n",
      "\u001b[34m[08/15/2024 16:26:39 INFO 140273210988352] Epoch[11] Batch [20]#011Speed: 193.898 samples/sec#011accuracy=0.824405\u001b[0m\n",
      "\u001b[34m[08/15/2024 16:26:41 INFO 140273210988352] Epoch[11] Train-accuracy=0.822581\u001b[0m\n",
      "\u001b[34m[08/15/2024 16:26:41 INFO 140273210988352] Epoch[11] Time cost=4.953\u001b[0m\n",
      "\u001b[34m[08/15/2024 16:26:41 INFO 140273210988352] Epoch[11] Validation-accuracy=0.799107\u001b[0m\n",
      "\u001b[34m[08/15/2024 16:26:45 INFO 140273210988352] Epoch[12] Batch [20]#011Speed: 190.965 samples/sec#011accuracy=0.845238\u001b[0m\n",
      "\u001b[34m[08/15/2024 16:26:47 INFO 140273210988352] Epoch[12] Train-accuracy=0.844758\u001b[0m\n",
      "\u001b[34m[08/15/2024 16:26:47 INFO 140273210988352] Epoch[12] Time cost=4.984\u001b[0m\n",
      "\u001b[34m[08/15/2024 16:26:47 INFO 140273210988352] Epoch[12] Validation-accuracy=0.786458\u001b[0m\n",
      "\u001b[34m[08/15/2024 16:26:51 INFO 140273210988352] Epoch[13] Batch [20]#011Speed: 192.595 samples/sec#011accuracy=0.842262\u001b[0m\n",
      "\u001b[34m[08/15/2024 16:26:52 INFO 140273210988352] Epoch[13] Train-accuracy=0.849798\u001b[0m\n",
      "\u001b[34m[08/15/2024 16:26:52 INFO 140273210988352] Epoch[13] Time cost=4.943\u001b[0m\n",
      "\u001b[34m[08/15/2024 16:26:53 INFO 140273210988352] Epoch[13] Validation-accuracy=0.817708\u001b[0m\n",
      "\u001b[34m[08/15/2024 16:26:57 INFO 140273210988352] Epoch[14] Batch [20]#011Speed: 190.818 samples/sec#011accuracy=0.860119\u001b[0m\n",
      "\u001b[34m[08/15/2024 16:26:58 INFO 140273210988352] Epoch[14] Train-accuracy=0.861895\u001b[0m\n",
      "\u001b[34m[08/15/2024 16:26:58 INFO 140273210988352] Epoch[14] Time cost=5.005\u001b[0m\n",
      "\u001b[34m[08/15/2024 16:26:59 INFO 140273210988352] Epoch[14] Validation-accuracy=0.770833\u001b[0m\n",
      "\u001b[34m[08/15/2024 16:27:03 INFO 140273210988352] Epoch[15] Batch [20]#011Speed: 185.117 samples/sec#011accuracy=0.880952\u001b[0m\n",
      "\u001b[34m[08/15/2024 16:27:04 INFO 140273210988352] Epoch[15] Train-accuracy=0.866935\u001b[0m\n",
      "\u001b[34m[08/15/2024 16:27:04 INFO 140273210988352] Epoch[15] Time cost=5.099\u001b[0m\n",
      "\u001b[34m[08/15/2024 16:27:05 INFO 140273210988352] Epoch[15] Validation-accuracy=0.799107\u001b[0m\n",
      "\u001b[34m[08/15/2024 16:27:09 INFO 140273210988352] Epoch[16] Batch [20]#011Speed: 191.785 samples/sec#011accuracy=0.892857\u001b[0m\n",
      "\u001b[34m[08/15/2024 16:27:10 INFO 140273210988352] Epoch[16] Train-accuracy=0.868952\u001b[0m\n",
      "\u001b[34m[08/15/2024 16:27:10 INFO 140273210988352] Epoch[16] Time cost=4.996\u001b[0m\n",
      "\u001b[34m[08/15/2024 16:27:11 INFO 140273210988352] Epoch[16] Validation-accuracy=0.828125\u001b[0m\n",
      "\u001b[34m[08/15/2024 16:27:11 INFO 140273210988352] Storing the best model with validation accuracy: 0.828125\u001b[0m\n",
      "\u001b[34m[08/15/2024 16:27:12 INFO 140273210988352] Saved checkpoint to \"/opt/ml/model/image-classification-0017.params\"\u001b[0m\n",
      "\u001b[34m[08/15/2024 16:27:15 INFO 140273210988352] Epoch[17] Batch [20]#011Speed: 192.565 samples/sec#011accuracy=0.907738\u001b[0m\n",
      "\u001b[34m[08/15/2024 16:27:17 INFO 140273210988352] Epoch[17] Train-accuracy=0.902218\u001b[0m\n",
      "\u001b[34m[08/15/2024 16:27:17 INFO 140273210988352] Epoch[17] Time cost=4.935\u001b[0m\n",
      "\u001b[34m[08/15/2024 16:27:17 INFO 140273210988352] Epoch[17] Validation-accuracy=0.791667\u001b[0m\n",
      "\u001b[34m[08/15/2024 16:27:21 INFO 140273210988352] Epoch[18] Batch [20]#011Speed: 192.943 samples/sec#011accuracy=0.880952\u001b[0m\n",
      "\u001b[34m[08/15/2024 16:27:22 INFO 140273210988352] Epoch[18] Train-accuracy=0.885081\u001b[0m\n",
      "\u001b[34m[08/15/2024 16:27:22 INFO 140273210988352] Epoch[18] Time cost=4.973\u001b[0m\n",
      "\u001b[34m[08/15/2024 16:27:23 INFO 140273210988352] Epoch[18] Validation-accuracy=0.781250\u001b[0m\n",
      "\u001b[34m[08/15/2024 16:27:27 INFO 140273210988352] Epoch[19] Batch [20]#011Speed: 191.439 samples/sec#011accuracy=0.900298\u001b[0m\n",
      "\u001b[34m[08/15/2024 16:27:28 INFO 140273210988352] Epoch[19] Train-accuracy=0.903226\u001b[0m\n",
      "\u001b[34m[08/15/2024 16:27:28 INFO 140273210988352] Epoch[19] Time cost=4.975\u001b[0m\n",
      "\u001b[34m[08/15/2024 16:27:29 INFO 140273210988352] Epoch[19] Validation-accuracy=0.808036\u001b[0m\n",
      "\u001b[34m[08/15/2024 16:27:33 INFO 140273210988352] Epoch[20] Batch [20]#011Speed: 189.170 samples/sec#011accuracy=0.949405\u001b[0m\n",
      "\u001b[34m[08/15/2024 16:27:34 INFO 140273210988352] Epoch[20] Train-accuracy=0.937500\u001b[0m\n",
      "\u001b[34m[08/15/2024 16:27:34 INFO 140273210988352] Epoch[20] Time cost=5.016\u001b[0m\n",
      "\u001b[34m[08/15/2024 16:27:35 INFO 140273210988352] Epoch[20] Validation-accuracy=0.817708\u001b[0m\n",
      "\u001b[34m[08/15/2024 16:27:39 INFO 140273210988352] Epoch[21] Batch [20]#011Speed: 192.236 samples/sec#011accuracy=0.925595\u001b[0m\n",
      "\u001b[34m[08/15/2024 16:27:40 INFO 140273210988352] Epoch[21] Train-accuracy=0.924395\u001b[0m\n",
      "\u001b[34m[08/15/2024 16:27:40 INFO 140273210988352] Epoch[21] Time cost=4.962\u001b[0m\n",
      "\u001b[34m[08/15/2024 16:27:41 INFO 140273210988352] Epoch[21] Validation-accuracy=0.807292\u001b[0m\n",
      "\u001b[34m[08/15/2024 16:27:45 INFO 140273210988352] Epoch[22] Batch [20]#011Speed: 191.424 samples/sec#011accuracy=0.943452\u001b[0m\n",
      "\u001b[34m[08/15/2024 16:27:46 INFO 140273210988352] Epoch[22] Train-accuracy=0.940524\u001b[0m\n",
      "\u001b[34m[08/15/2024 16:27:46 INFO 140273210988352] Epoch[22] Time cost=5.020\u001b[0m\n",
      "\u001b[34m[08/15/2024 16:27:47 INFO 140273210988352] Epoch[22] Validation-accuracy=0.828125\u001b[0m\n",
      "\u001b[34m[08/15/2024 16:27:51 INFO 140273210988352] Epoch[23] Batch [20]#011Speed: 191.876 samples/sec#011accuracy=0.930060\u001b[0m\n",
      "\u001b[34m[08/15/2024 16:27:52 INFO 140273210988352] Epoch[23] Train-accuracy=0.926411\u001b[0m\n",
      "\u001b[34m[08/15/2024 16:27:52 INFO 140273210988352] Epoch[23] Time cost=4.980\u001b[0m\n",
      "\u001b[34m[08/15/2024 16:27:53 INFO 140273210988352] Epoch[23] Validation-accuracy=0.821429\u001b[0m\n",
      "\u001b[34m[08/15/2024 16:27:57 INFO 140273210988352] Epoch[24] Batch [20]#011Speed: 191.506 samples/sec#011accuracy=0.965774\u001b[0m\n",
      "\u001b[34m[08/15/2024 16:27:58 INFO 140273210988352] Epoch[24] Train-accuracy=0.967742\u001b[0m\n",
      "\u001b[34m[08/15/2024 16:27:58 INFO 140273210988352] Epoch[24] Time cost=4.969\u001b[0m\n",
      "\u001b[34m[08/15/2024 16:27:59 INFO 140273210988352] Epoch[24] Validation-accuracy=0.869792\u001b[0m\n",
      "\u001b[34m[08/15/2024 16:27:59 INFO 140273210988352] Storing the best model with validation accuracy: 0.869792\u001b[0m\n",
      "\u001b[34m[08/15/2024 16:27:59 INFO 140273210988352] Saved checkpoint to \"/opt/ml/model/image-classification-0025.params\"\u001b[0m\n",
      "\u001b[34m[08/15/2024 16:28:03 INFO 140273210988352] Epoch[25] Batch [20]#011Speed: 185.904 samples/sec#011accuracy=0.965774\u001b[0m\n",
      "\u001b[34m[08/15/2024 16:28:04 INFO 140273210988352] Epoch[25] Train-accuracy=0.965726\u001b[0m\n",
      "\u001b[34m[08/15/2024 16:28:04 INFO 140273210988352] Epoch[25] Time cost=5.077\u001b[0m\n",
      "\u001b[34m[08/15/2024 16:28:05 INFO 140273210988352] Epoch[25] Validation-accuracy=0.776042\u001b[0m\n",
      "\u001b[34m[08/15/2024 16:28:09 INFO 140273210988352] Epoch[26] Batch [20]#011Speed: 192.579 samples/sec#011accuracy=0.934524\u001b[0m\n",
      "\u001b[34m[08/15/2024 16:28:10 INFO 140273210988352] Epoch[26] Train-accuracy=0.938508\u001b[0m\n",
      "\u001b[34m[08/15/2024 16:28:10 INFO 140273210988352] Epoch[26] Time cost=4.958\u001b[0m\n",
      "\u001b[34m[08/15/2024 16:28:11 INFO 140273210988352] Epoch[26] Validation-accuracy=0.812500\u001b[0m\n",
      "\u001b[34m[08/15/2024 16:28:15 INFO 140273210988352] Epoch[27] Batch [20]#011Speed: 192.728 samples/sec#011accuracy=0.976190\u001b[0m\n",
      "\u001b[34m[08/15/2024 16:28:16 INFO 140273210988352] Epoch[27] Train-accuracy=0.975806\u001b[0m\n",
      "\u001b[34m[08/15/2024 16:28:16 INFO 140273210988352] Epoch[27] Time cost=4.950\u001b[0m\n",
      "\u001b[34m[08/15/2024 16:28:17 INFO 140273210988352] Epoch[27] Validation-accuracy=0.825893\u001b[0m\n",
      "\u001b[34m[08/15/2024 16:28:21 INFO 140273210988352] Epoch[28] Batch [20]#011Speed: 192.001 samples/sec#011accuracy=0.971726\u001b[0m\n",
      "\u001b[34m[08/15/2024 16:28:22 INFO 140273210988352] Epoch[28] Train-accuracy=0.959677\u001b[0m\n",
      "\u001b[34m[08/15/2024 16:28:22 INFO 140273210988352] Epoch[28] Time cost=4.992\u001b[0m\n",
      "\u001b[34m[08/15/2024 16:28:23 INFO 140273210988352] Epoch[28] Validation-accuracy=0.812500\u001b[0m\n",
      "\u001b[34m[08/15/2024 16:28:26 INFO 140273210988352] Epoch[29] Batch [20]#011Speed: 192.579 samples/sec#011accuracy=0.930060\u001b[0m\n",
      "\u001b[34m[08/15/2024 16:28:28 INFO 140273210988352] Epoch[29] Train-accuracy=0.942540\u001b[0m\n",
      "\u001b[34m[08/15/2024 16:28:28 INFO 140273210988352] Epoch[29] Time cost=4.940\u001b[0m\n",
      "\u001b[34m[08/15/2024 16:28:29 INFO 140273210988352] Epoch[29] Validation-accuracy=0.807292\u001b[0m\n",
      "\n",
      "2024-08-15 16:28:32 Uploading - Uploading generated training model\n",
      "2024-08-15 16:28:50 Completed - Training job completed\n",
      "Training seconds: 557\n",
      "Billable seconds: 557\n",
      "Model training started!\n"
     ]
    }
   ],
   "source": [
    "## TODO: train your model\n",
    "# Train the model using the fit method with the provided model_inputs\n",
    "img_classifier_model.fit(model_inputs)\n",
    "\n",
    "print(\"Model training started!\")\n"
   ]
  },
  {
   "cell_type": "markdown",
   "metadata": {},
   "source": [
    "If all goes well, you'll end up with a model topping out above `.8` validation accuracy. With only 1000 training samples in the CIFAR dataset, that's pretty good. We could definitely pursue data augmentation & gathering more samples to help us improve further, but for now let's proceed to deploy our model.\n",
    "\n",
    "### Getting ready to deploy\n",
    "\n",
    "To begin with, let's configure Model Monitor to track our deployment. We'll define a `DataCaptureConfig` below:"
   ]
  },
  {
   "cell_type": "code",
   "execution_count": 93,
   "metadata": {},
   "outputs": [
    {
     "name": "stdout",
     "output_type": "stream",
     "text": [
      "Data capture configuration set up successfully!\n"
     ]
    }
   ],
   "source": [
    "from sagemaker.model_monitor import DataCaptureConfig\n",
    "\n",
    "data_capture_config = DataCaptureConfig(\n",
    "    destination_s3_uri=f\"s3://{bucket}/data_capture\",  # S3 path for storing captured data\n",
    "    capture_options=[\"REQUEST\", \"RESPONSE\"],  # Capture both request and response data\n",
    "    sampling_percentage=100,  # Capture 100% of the data (you can adjust this)\n",
    "    enable_capture=True  # Enable data capture\n",
    ")\n",
    "\n",
    "print(\"Data capture configuration set up successfully!\")\n"
   ]
  },
  {
   "cell_type": "markdown",
   "metadata": {},
   "source": [
    "Note the `destination_s3_uri` parameter: At the end of the project, we can explore the `data_capture` directory in S3 to find crucial data about the inputs and outputs Model Monitor has observed on our model endpoint over time.\n",
    "\n",
    "With that done, deploy your model on a single `ml.m5.xlarge` instance with the data capture config attached:"
   ]
  },
  {
   "cell_type": "code",
   "execution_count": 94,
   "metadata": {},
   "outputs": [
    {
     "name": "stderr",
     "output_type": "stream",
     "text": [
      "INFO:sagemaker:Creating model with name: image-classification-2024-08-15-16-32-11-611\n",
      "INFO:sagemaker:Creating endpoint-config with name image-classification-2024-08-15-16-32-11-611\n",
      "INFO:sagemaker:Creating endpoint with name image-classification-2024-08-15-16-32-11-611\n"
     ]
    },
    {
     "name": "stdout",
     "output_type": "stream",
     "text": [
      "----------------!Model deployed to endpoint: image-classification-2024-08-15-16-32-11-611\n"
     ]
    }
   ],
   "source": [
    "deployment = img_classifier_model.deploy(\n",
    "    initial_instance_count=1,  # Number of instances to launch\n",
    "    instance_type=\"ml.m5.large\",  # Instance type for the endpoint\n",
    "    data_capture_config=data_capture_config  # Data capture configuration\n",
    ")\n",
    "\n",
    "endpoint = deployment.endpoint_name\n",
    "print(f\"Model deployed to endpoint: {endpoint}\")\n"
   ]
  },
  {
   "cell_type": "markdown",
   "metadata": {},
   "source": [
    "Note the endpoint name for later as well.\n",
    "\n",
    "Next, instantiate a Predictor:"
   ]
  },
  {
   "cell_type": "code",
   "execution_count": 95,
   "metadata": {},
   "outputs": [
    {
     "name": "stderr",
     "output_type": "stream",
     "text": [
      "WARNING:sagemaker.deprecations:content_type is a no-op in sagemaker>=2.\n",
      "See: https://sagemaker.readthedocs.io/en/stable/v2.html for details.\n"
     ]
    },
    {
     "name": "stdout",
     "output_type": "stream",
     "text": [
      "Predictor created successfully!\n"
     ]
    }
   ],
   "source": [
    "from sagemaker.predictor import Predictor\n",
    "\n",
    "predictor = Predictor(\n",
    "    endpoint_name=endpoint,  # Use the endpoint name from the deployment\n",
    "    sagemaker_session=sagemaker.Session(),  # Create a session to interact with SageMaker\n",
    "    content_type=\"application/x-image\"  # Specify the content type for the prediction requests\n",
    ")\n",
    "\n",
    "print(\"Predictor created successfully!\")\n"
   ]
  },
  {
   "cell_type": "markdown",
   "metadata": {},
   "source": [
    "In the code snippet below we are going to prepare one of your saved images for prediction. Use the predictor to process the `payload`."
   ]
  },
  {
   "cell_type": "code",
   "execution_count": 96,
   "metadata": {},
   "outputs": [
    {
     "name": "stdout",
     "output_type": "stream",
     "text": [
      "Inference result: b'[0.7597333788871765, 0.2402666062116623]'\n"
     ]
    }
   ],
   "source": [
    "from sagemaker.serializers import IdentitySerializer\n",
    "\n",
    "# Configure the predictor's serializer to handle PNG images\n",
    "predictor.serializer = IdentitySerializer(\"image/png\")\n",
    "\n",
    "# Load the image and read it as binary data\n",
    "with open(\"./test/bicycle_s_001789.png\", \"rb\") as f:\n",
    "    payload = f.read()\n",
    "\n",
    "# Send the payload to the predictor for inference\n",
    "inference = predictor.predict(payload)\n",
    "\n",
    "# Optionally, decode the inference result if needed\n",
    "print(\"Inference result:\", inference)\n"
   ]
  },
  {
   "cell_type": "markdown",
   "metadata": {},
   "source": [
    "Your `inference` object is an array of two values, the predicted probability value for each of your classes (bicycle and motorcycle respectively.) So, for example, a value of `b'[0.91, 0.09]'` indicates the probability of being a bike is 91% and being a motorcycle is 9%."
   ]
  },
  {
   "cell_type": "code",
   "execution_count": 97,
   "metadata": {},
   "outputs": [
    {
     "name": "stdout",
     "output_type": "stream",
     "text": [
      "Inference result: b'[0.7597333788871765, 0.2402666062116623]'\n"
     ]
    }
   ],
   "source": [
    "print(\"Inference result:\", inference)"
   ]
  },
  {
   "cell_type": "markdown",
   "metadata": {
    "jp-MarkdownHeadingCollapsed": true
   },
   "source": [
    "### Draft Lambdas and Step Function Workflow\n",
    "\n",
    "Your operations team uses Step Functions to orchestrate serverless workflows. One of the nice things about Step Functions is that [workflows can call other workflows](https://docs.aws.amazon.com/step-functions/latest/dg/connect-stepfunctions.html), so the team can easily plug your workflow into the broader production architecture for Scones Unlimited.\n",
    "\n",
    "In this next stage you're going to write and deploy three Lambda functions, and then use the Step Functions visual editor to chain them together! Our functions are going to work with a simple data object:\n",
    "\n",
    "```python\n",
    "{\n",
    "    \"inferences\": [], # Output of predictor.predict\n",
    "    \"s3_key\": \"\", # Source data S3 key\n",
    "    \"s3_bucket\": \"\", # Source data S3 bucket\n",
    "    \"image_data\": \"\"  # base64 encoded string containing the image data\n",
    "}\n",
    "```\n",
    "\n",
    "A good test object that you can use for Lambda tests and Step Function executions, throughout the next section, might look like this:\n",
    "\n",
    "```python\n",
    "{\n",
    "  \"image_data\": \"\",\n",
    "  \"s3_bucket\": MY_BUCKET_NAME, # Fill in with your bucket\n",
    "  \"s3_key\": \"test/bicycle_s_000513.png\"\n",
    "}\n",
    "```\n",
    "\n",
    "Using these fields, your functions can read and write the necessary data to execute your workflow. Let's start with the first function. Your first Lambda function will copy an object from S3, base64 encode it, and then return it to the step function as `image_data` in an event.\n",
    "\n",
    "Go to the Lambda dashboard and create a new Lambda function with a descriptive name like \"serializeImageData\" and select thr 'Python 3.8' runtime. Add the same permissions as the SageMaker role you created earlier. (Reminder: you do this in the Configuration tab under \"Permissions\"). Once you're ready, use the starter code below to craft your Lambda handler:\n",
    "\n",
    "```python\n",
    "import json\n",
    "import boto3\n",
    "import base64\n",
    "\n",
    "s3 = boto3.client('s3')\n",
    "\n",
    "def lambda_handler(event, context):\n",
    "    \"\"\"A function to serialize target data from S3\"\"\"\n",
    "    \n",
    "    # Get the S3 address from the Step Function event input\n",
    "    key = event['s3_key']  # Key (filename) of the S3 object\n",
    "    bucket = event['s3_bucket']  # S3 bucket name\n",
    "    \n",
    "    # Download the data from S3 to /tmp/image.png\n",
    "    s3.download_file(bucket, key, \"/tmp/image.png\")\n",
    "    \n",
    "    # We read the data from the file and encode it in base64\n",
    "    with open(\"/tmp/image.png\", \"rb\") as f:\n",
    "        image_data = base64.b64encode(f.read()).decode('utf-8')\n",
    "    \n",
    "    # Pass the data back to the Step Function\n",
    "    return {\n",
    "        'statusCode': 200,\n",
    "        'body': {\n",
    "            \"image_data\": image_data,  # Encoded image data\n",
    "            \"s3_bucket\": bucket,  # Original S3 bucket\n",
    "            \"s3_key\": key,  # Original S3 key\n",
    "            \"inferences\": []  # Placeholder for inference results\n",
    "        }\n",
    "    }\n",
    "```\n",
    "\n",
    "The next function is responsible for the classification part - we're going to take the image output from the previous function, decode it, and then pass inferences back to the the Step Function.\n",
    "\n",
    "Because this Lambda will have runtime dependencies (i.e. the SageMaker SDK) you'll need to package them in your function. *Key reading:* https://docs.aws.amazon.com/lambda/latest/dg/python-package-create.html#python-package-create-with-dependency\n",
    "\n",
    "Create a new Lambda function with the same rights and a descriptive name, then fill in the starter code below for your classifier Lambda.\n",
    "\n",
    "```python\n",
    "import json\n",
    "import sagemaker\n",
    "import base64\n",
    "from sagemaker.serializers import IdentitySerializer\n",
    "\n",
    "ENDPOINT = \"image-classification-2024-08-15-16-32-11-611\"  \n",
    "\n",
    "def lambda_handler(event, context):\n",
    "\n",
    "    # Decode the image data from the event\n",
    "    image = base64.b64decode(event[\"image_data\"])  # TODO: Ensure \"image_data\" is the correct key\n",
    "\n",
    "    # Instantiate a Predictor\n",
    "    predictor = Predictor(\n",
    "        endpoint_name=ENDPOINT,  #\n",
    "        sagemaker_session=boto3.Session().client('sagemaker')\n",
    "    )\n",
    "\n",
    "    # For this model, the IdentitySerializer needs to be \"image/png\"\n",
    "    predictor.serializer = IdentitySerializer(\"image/png\")\n",
    "    \n",
    "    # Make a prediction\n",
    "    inferences = predictor.predict(image)\n",
    "    \n",
    "    # We return the data back to the Step Function    \n",
    "    event[\"inferences\"] = inferences.decode('utf-8')\n",
    "    return {\n",
    "        'statusCode': 200,\n",
    "        'body': json.dumps(event)\n",
    "    }\n",
    "```\n",
    "\n",
    "Finally, we need to filter low-confidence inferences. Define a threshold between 1.00 and 0.000 for your model: what is reasonble for you? If the model predicts at `.70` for it's highest confidence label, do we want to pass that inference along to downstream systems? Make one last Lambda function and tee up the same permissions:\n",
    "\n",
    "```python\n",
    "import json\n",
    "\n",
    "\n",
    "THRESHOLD = .93\n",
    "\n",
    "\n",
    "def lambda_handler(event, context):\n",
    "    \n",
    "    # Grab the inferences from the event\n",
    "    inferences = json.loads(event[\"inferences\"])\n",
    "    \n",
    "    # Check if any values in our inferences are above THRESHOLD\n",
    "    meets_threshold = any(float(inference) > THRESHOLD for inference in inferences)\n",
    "    \n",
    "    # If our threshold is met, pass our data back out of the\n",
    "    # Step Function, else, end the Step Function with an error\n",
    "    if meets_threshold:\n",
    "        return {\n",
    "            'statusCode': 200,\n",
    "            'body': json.dumps(event)\n",
    "        }\n",
    "    else:\n",
    "        raise Exception(\"THRESHOLD_CONFIDENCE_NOT_MET\")\n",
    "```\n",
    "Once you have tested the lambda functions, save the code for each lambda function in a python script called 'lambda.py'.\n",
    "\n",
    "With your lambdas in place, you can use the Step Functions visual editor to construct a workflow that chains them together. In the Step Functions console you'll have the option to author a Standard step function *Visually*.\n",
    "\n",
    "When the visual editor opens, you'll have many options to add transitions in your workflow. We're going to keep it simple and have just one: to invoke Lambda functions. Add three of them chained together. For each one, you'll be able to select the Lambda functions you just created in the proper order, filter inputs and outputs, and give them descriptive names.\n",
    "\n",
    "Make sure that you:\n",
    "\n",
    "1. Are properly filtering the inputs and outputs of your invokations (e.g. `$.body`)\n",
    "2. Take care to remove the error handling from the last function - it's supposed to \"fail loudly\" for your operations colleagues!\n",
    "\n",
    "Take a screenshot of your working step function in action and export the step function as JSON for your submission package."
   ]
  },
  {
   "cell_type": "markdown",
   "metadata": {},
   "source": [
    "\n",
    "Great! Now you can use the files in `./test` as test files for our workflow. Depending on our threshold, our workflow should reliably pass predictions about images from `./test` on to downstream systems, while erroring out for inferences below our confidence threshold!\n",
    "\n",
    "### Testing and Evaluation\n",
    "\n",
    "Do several step function invokations using data from the `./test` folder. This process should give you confidence that the workflow both *succeeds* AND *fails* as expected. In addition, SageMaker Model Monitor will generate recordings of your data and inferences which we can visualize.\n",
    "\n",
    "Here's a function that can help you generate test inputs for your invokations:"
   ]
  },
  {
   "cell_type": "code",
   "execution_count": 35,
   "metadata": {},
   "outputs": [
    {
     "data": {
      "text/plain": [
       "'{\"image_data\": \"\", \"s3_bucket\": \"sagemaker-us-east-1-651522891008\", \"s3_key\": \"test/minibike_s_001651.png\"}'"
      ]
     },
     "execution_count": 35,
     "metadata": {},
     "output_type": "execute_result"
    }
   ],
   "source": [
    "import random\n",
    "import boto3\n",
    "import json\n",
    "\n",
    "\n",
    "def generate_test_case():\n",
    "    # Setup s3 in boto3\n",
    "    s3 = boto3.resource('s3')\n",
    "    \n",
    "    # Randomly pick from sfn or test folders in our bucket\n",
    "    objects = s3.Bucket(bucket).objects.filter(Prefix=\"test/\")\n",
    "    \n",
    "    # Grab any random object key from that folder!\n",
    "    obj = random.choice([x.key for x in objects])\n",
    "    \n",
    "    return json.dumps({\n",
    "        \"image_data\": \"\",\n",
    "        \"s3_bucket\": bucket,\n",
    "        \"s3_key\": obj\n",
    "    })\n",
    "generate_test_case()"
   ]
  },
  {
   "cell_type": "markdown",
   "metadata": {},
   "source": [
    "In the Step Function dashboard for your new function, you can create new executions and copy in the generated test cases. Do several executions so that you can generate data you can evaluate and visualize.\n",
    "\n",
    "Once you've done several executions, let's visualize the record of our inferences. Pull in the JSONLines data from your inferences like so:"
   ]
  },
  {
   "cell_type": "code",
   "execution_count": 36,
   "metadata": {},
   "outputs": [
    {
     "data": {
      "text/plain": [
       "['captured_data/10-20-332-83c6d61e-d4be-4326-bcba-13ffee54460b.jsonl',\n",
       " 'captured_data/16-11-408-b314f7c1-54e0-466c-a306-b1b76ad30e0f.jsonl',\n",
       " 'captured_data/36-10-927-dbb80f3c-2c87-483a-9aa9-a2dc9da1ed48.jsonl',\n",
       " 'captured_data/37-13-684-fdcbd87b-5449-41ea-a9ae-f8d441b3ffe9.jsonl',\n",
       " 'captured_data/38-24-224-5dfba2bd-ba62-41c4-980d-a4aa54b6a439.jsonl']"
      ]
     },
     "execution_count": 36,
     "metadata": {},
     "output_type": "execute_result"
    }
   ],
   "source": [
    "from sagemaker.s3 import S3Downloader\n",
    "\n",
    "# In S3 your data will be saved to a datetime-aware path\n",
    "# Find a path related to a datetime you're interested in\n",
    "data_path = 's3://sagemaker-us-east-1-651522891008/data_capture/image-classification-2024-08-15-16-32-11-611/AllTraffic/2024/08/18/15/' ## TODO: fill in the path to your captured data\n",
    "\n",
    "S3Downloader.download(data_path, \"captured_data\")\n",
    "\n",
    "# Feel free to repeat this multiple times and pull in more data"
   ]
  },
  {
   "cell_type": "markdown",
   "metadata": {},
   "source": [
    "The data are in JSONLines format, where multiple valid JSON objects are stacked on top of eachother in a single `jsonl` file. We'll import an open-source library, `jsonlines` that was purpose built for parsing this format."
   ]
  },
  {
   "cell_type": "code",
   "execution_count": 11,
   "metadata": {},
   "outputs": [
    {
     "name": "stdout",
     "output_type": "stream",
     "text": [
      "Collecting jsonlines\n",
      "  Downloading jsonlines-4.0.0-py3-none-any.whl.metadata (1.6 kB)\n",
      "Requirement already satisfied: attrs>=19.2.0 in /opt/conda/lib/python3.10/site-packages (from jsonlines) (23.2.0)\n",
      "Downloading jsonlines-4.0.0-py3-none-any.whl (8.7 kB)\n",
      "Installing collected packages: jsonlines\n",
      "Successfully installed jsonlines-4.0.0\n"
     ]
    }
   ],
   "source": [
    "!pip install jsonlines\n",
    "import jsonlines"
   ]
  },
  {
   "cell_type": "markdown",
   "metadata": {},
   "source": [
    "Now we can extract the data from each of the source files:"
   ]
  },
  {
   "cell_type": "code",
   "execution_count": 37,
   "metadata": {},
   "outputs": [],
   "source": [
    "import os\n",
    "\n",
    "# List the file names we downloaded\n",
    "file_handles = os.listdir(\"./captured_data\")\n",
    "\n",
    "# Dump all the data into an array\n",
    "json_data = []\n",
    "for jsonl in file_handles:\n",
    "    with jsonlines.open(f\"./captured_data/{jsonl}\") as f:\n",
    "        json_data.append(f.read())"
   ]
  },
  {
   "cell_type": "markdown",
   "metadata": {},
   "source": [
    "The data should now be a list of dictionaries, with significant nesting. We'll give you an example of some code that grabs data out of the objects and visualizes it:"
   ]
  },
  {
   "cell_type": "code",
   "execution_count": 19,
   "metadata": {},
   "outputs": [
    {
     "data": {
      "text/plain": [
       "([0.9405835866928101, 0.059416357427835464], '2024-08-18T15:16:11Z')"
      ]
     },
     "execution_count": 19,
     "metadata": {},
     "output_type": "execute_result"
    }
   ],
   "source": [
    "# Define how we'll get our data\n",
    "def simple_getter(obj):\n",
    "    inferences = obj[\"captureData\"][\"endpointOutput\"][\"data\"]\n",
    "    timestamp = obj[\"eventMetadata\"][\"inferenceTime\"]\n",
    "    return json.loads(inferences), timestamp\n",
    "\n",
    "simple_getter(json_data[1])"
   ]
  },
  {
   "cell_type": "markdown",
   "metadata": {},
   "source": [
    "Finally, here's an example of a visualization you can build with this data. In this last part, you will take some time and build your own - the captured data has the input images, the resulting inferences, and the timestamps."
   ]
  },
  {
   "cell_type": "code",
   "execution_count": 22,
   "metadata": {},
   "outputs": [
    {
     "data": {
      "image/png": "[encoded data removed]",
      "text/plain": [
       "<Figure size 640x480 with 1 Axes>"
      ]
     },
     "metadata": {},
     "output_type": "display_data"
    }
   ],
   "source": [
    "# Populate the data for the x and y axis\n",
    "x = []\n",
    "y = []\n",
    "for obj in json_data:\n",
    "    inference, timestamp = simple_getter(obj)\n",
    "    \n",
    "    y.append(max(inference))\n",
    "    x.append(timestamp)\n",
    "\n",
    "# Todo: here is an visualization example, take some time to build another visual that helps monitor the result\n",
    "# Plot the data\n",
    "plt.scatter(x, y, c=['r' if k<.94 else 'b' for k in y ])\n",
    "plt.axhline(y=0.94, color='g', linestyle='--')\n",
    "plt.ylim(bottom=.88)\n",
    "\n",
    "# Add labels\n",
    "plt.ylabel(\"Confidence\")\n",
    "plt.suptitle(\"Observed Recent Inferences\", size=14)\n",
    "plt.title(\"Pictured with confidence threshold for production use\", size=10)\n",
    "\n",
    "# Give it some pizzaz!\n",
    "plt.style.use(\"Solarize_Light2\")\n",
    "plt.gcf().autofmt_xdate()"
   ]
  },
  {
   "cell_type": "markdown",
   "metadata": {},
   "source": [
    "### Todo: build your own visualization\n"
   ]
  },
  {
   "cell_type": "code",
   "execution_count": 24,
   "metadata": {},
   "outputs": [
    {
     "name": "stdout",
     "output_type": "stream",
     "text": [
      "Collecting seaborn\n",
      "  Downloading seaborn-0.13.2-py3-none-any.whl.metadata (5.4 kB)\n",
      "Requirement already satisfied: numpy!=1.24.0,>=1.20 in /opt/conda/lib/python3.10/site-packages (from seaborn) (1.26.4)\n",
      "Requirement already satisfied: pandas>=1.2 in /opt/conda/lib/python3.10/site-packages (from seaborn) (2.1.4)\n",
      "Requirement already satisfied: matplotlib!=3.6.1,>=3.4 in /opt/conda/lib/python3.10/site-packages (from seaborn) (3.8.4)\n",
      "Requirement already satisfied: contourpy>=1.0.1 in /opt/conda/lib/python3.10/site-packages (from matplotlib!=3.6.1,>=3.4->seaborn) (1.2.1)\n",
      "Requirement already satisfied: cycler>=0.10 in /opt/conda/lib/python3.10/site-packages (from matplotlib!=3.6.1,>=3.4->seaborn) (0.12.1)\n",
      "Requirement already satisfied: fonttools>=4.22.0 in /opt/conda/lib/python3.10/site-packages (from matplotlib!=3.6.1,>=3.4->seaborn) (4.53.0)\n",
      "Requirement already satisfied: kiwisolver>=1.3.1 in /opt/conda/lib/python3.10/site-packages (from matplotlib!=3.6.1,>=3.4->seaborn) (1.4.5)\n",
      "Requirement already satisfied: packaging>=20.0 in /opt/conda/lib/python3.10/site-packages (from matplotlib!=3.6.1,>=3.4->seaborn) (23.2)\n",
      "Requirement already satisfied: pillow>=8 in /opt/conda/lib/python3.10/site-packages (from matplotlib!=3.6.1,>=3.4->seaborn) (10.3.0)\n",
      "Requirement already satisfied: pyparsing>=2.3.1 in /opt/conda/lib/python3.10/site-packages (from matplotlib!=3.6.1,>=3.4->seaborn) (3.1.2)\n",
      "Requirement already satisfied: python-dateutil>=2.7 in /opt/conda/lib/python3.10/site-packages (from matplotlib!=3.6.1,>=3.4->seaborn) (2.9.0)\n",
      "Requirement already satisfied: pytz>=2020.1 in /opt/conda/lib/python3.10/site-packages (from pandas>=1.2->seaborn) (2023.3)\n",
      "Requirement already satisfied: tzdata>=2022.1 in /opt/conda/lib/python3.10/site-packages (from pandas>=1.2->seaborn) (2024.1)\n",
      "Requirement already satisfied: six>=1.5 in /opt/conda/lib/python3.10/site-packages (from python-dateutil>=2.7->matplotlib!=3.6.1,>=3.4->seaborn) (1.16.0)\n",
      "Downloading seaborn-0.13.2-py3-none-any.whl (294 kB)\n",
      "\u001b[2K   \u001b[90m━━━━━━━━━━━━━━━━━━━━━━━━━━━━━━━━━━━━━━━━\u001b[0m \u001b[32m294.9/294.9 kB\u001b[0m \u001b[31m24.9 MB/s\u001b[0m eta \u001b[36m0:00:00\u001b[0m\n",
      "\u001b[?25hInstalling collected packages: seaborn\n",
      "Successfully installed seaborn-0.13.2\n"
     ]
    }
   ],
   "source": [
    "!pip install seaborn"
   ]
  },
  {
   "cell_type": "code",
   "execution_count": 38,
   "metadata": {},
   "outputs": [
    {
     "data": {
      "image/png": "[encoded data removed]",
      "text/plain": [
       "<Figure size 1200x600 with 1 Axes>"
      ]
     },
     "metadata": {},
     "output_type": "display_data"
    },
    {
     "data": {
      "image/png": "[encoded data removed]",
      "text/plain": [
       "<Figure size 1400x600 with 1 Axes>"
      ]
     },
     "metadata": {},
     "output_type": "display_data"
    }
   ],
   "source": [
    "import matplotlib.pyplot as plt\n",
    "import seaborn as sns\n",
    "import pandas as pd\n",
    "\n",
    "# Assuming json_data is already loaded\n",
    "data = []\n",
    "for obj in json_data:\n",
    "    inference, timestamp = simple_getter(obj)\n",
    "    \n",
    "    data.append({\n",
    "        'timestamp': timestamp,\n",
    "        'confidence': max(inference)\n",
    "    })\n",
    "\n",
    "# Convert data to a DataFrame\n",
    "df = pd.DataFrame(data)\n",
    "\n",
    "# Convert timestamp to a datetime object\n",
    "df['timestamp'] = pd.to_datetime(df['timestamp'])\n",
    "\n",
    "# Todo: Example visualization - plot a histogram and line plot of confidence levels over time\n",
    "\n",
    "# Plot histogram of confidence levels\n",
    "plt.figure(figsize=(12, 6))\n",
    "sns.histplot(df['confidence'], bins=20, kde=True)\n",
    "plt.axvline(x=0.94, color='r', linestyle='--', label=\"Threshold: 0.94\")\n",
    "plt.xlabel(\"Confidence\")\n",
    "plt.title(\"Distribution of Confidence Levels\")\n",
    "plt.legend()\n",
    "\n",
    "plt.show()\n",
    "\n",
    "# Plot line plot of confidence levels over time\n",
    "plt.figure(figsize=(14, 6))\n",
    "sns.lineplot(x='timestamp', y='confidence', data=df, marker='o')\n",
    "plt.axhline(y=0.94, color='g', linestyle='--', label=\"Threshold: 0.94\")\n",
    "plt.ylim(bottom=0.88)\n",
    "plt.xlabel(\"Timestamp\")\n",
    "plt.ylabel(\"Confidence\")\n",
    "plt.title(\"Confidence Levels Over Time\")\n",
    "plt.xticks(rotation=45)\n",
    "plt.legend()\n",
    "\n",
    "plt.show()\n"
   ]
  },
  {
   "cell_type": "markdown",
   "metadata": {},
   "source": [
    "### Congratulations!\n",
    "\n",
    "You've reached the end of the project. In this project you created an event-drivent ML workflow that can be incorporated into the Scones Unlimited production architecture. You used the SageMaker Estimator API to deploy your SageMaker Model and Endpoint, and you used AWS Lambda and Step Functions to orchestrate your ML workflow. Using SageMaker Model Monitor, you instrumented and observed your Endpoint, and at the end of the project you built a visualization to help stakeholders understand the performance of the Endpoint over time. If you're up for it, you can even go further with these stretch goals:\n",
    "\n",
    "* Extend your workflow to incorporate more classes: the CIFAR dataset includes other vehicles that Scones Unlimited can identify with this model.\n",
    "* Modify your event driven workflow: can you rewrite your Lambda functions so that the workflow can process multiple image inputs in parallel? Can the Step Function \"fan out\" to accomodate this new workflow?\n",
    "* Consider the test data generator we provided for you. Can we use it to create a \"dummy data\" generator, to simulate a continuous stream of input data? Or a big paralell load of data?\n",
    "* What if we want to get notified every time our step function errors out? Can we use the Step Functions visual editor in conjunction with a service like SNS to accomplish this? Try it out!\n",
    "\n",
    "\n"
   ]
  }
 ],
 "metadata": {
  "instance_type": "ml.t3.medium",
  "kernelspec": {
   "display_name": "Python 3 (ipykernel)",
   "language": "python",
   "name": "python3"
  },
  "language_info": {
   "codemirror_mode": {
    "name": "ipython",
    "version": 3
   },
   "file_extension": ".py",
   "mimetype": "text/x-python",
   "name": "python",
   "nbconvert_exporter": "python",
   "pygments_lexer": "ipython3",
   "version": "3.10.14"
  }
 },
 "nbformat": 4,
 "nbformat_minor": 4
}
